{
  "cells": [
    {
      "cell_type": "markdown",
      "metadata": {},
      "source": [
        "# Download required Libraries"
      ]
    },
    {
      "cell_type": "code",
      "execution_count": null,
      "metadata": {
        "id": "9LVr5sV8CKz0"
      },
      "outputs": [],
      "source": [
        "!pip uninstall jax jaxlib -y\n",
        "!pip install --upgrade \"jax[cuda11_pip]\" -f https://storage.googleapis.com/jax-releases/jax_cuda_releases.html\n",
        "!pip install torch==1.8.1 torchvision==0.9.1\n",
        "!git clone https://github.com/NVlabs/stylegan2-ada-pytorch.git\n",
        "!git clone https://github.com/NVlabs/stylegan3.git\n",
        "!pip install ninja"
      ]
    },
    {
      "attachments": {},
      "cell_type": "markdown",
      "metadata": {
        "id": "oBwmbfKJCORs"
      },
      "source": [
        "## Dataset"
      ]
    },
    {
      "cell_type": "code",
      "execution_count": 3,
      "metadata": {
        "id": "wwpXtlrCCRHe"
      },
      "outputs": [
        {
          "name": "stdout",
          "output_type": "stream",
          "text": [
            "celeba_hq_256\n"
          ]
        }
      ],
      "source": [
        "!ls gan/images"
      ]
    },
    {
      "attachments": {},
      "cell_type": "markdown",
      "metadata": {
        "id": "rl6ShUWrCUrV"
      },
      "source": [
        "## Convert Your Images\n",
        "\n",
        "You must convert your images into a data set form that PyTorch can directly utilize. The following command converts your images and writes the resulting data set to another directory."
      ]
    },
    {
      "cell_type": "code",
      "execution_count": 4,
      "metadata": {
        "id": "qOK8m0N-Caqa"
      },
      "outputs": [
        {
          "name": "stderr",
          "output_type": "stream",
          "text": [
            "\n",
            "  0%|          | 0/1000 [00:00<?, ?it/s]d:\\ML_DEV\\GAN\\SG3\\stylegan3\\dataset_tool.py:229: DeprecationWarning: LANCZOS is deprecated and will be removed in Pillow 10 (2023-07-01). Use Resampling.LANCZOS instead.\n",
            "  img = img.resize((ww, hh), PIL.Image.LANCZOS)\n",
            "\n",
            "  1%|▏         | 14/1000 [00:00<00:07, 135.66it/s]\n",
            "  3%|▎         | 28/1000 [00:00<00:07, 137.57it/s]\n",
            "  4%|▍         | 44/1000 [00:00<00:06, 144.79it/s]\n",
            "  6%|▌         | 59/1000 [00:00<00:06, 144.42it/s]\n",
            "  7%|▋         | 74/1000 [00:00<00:06, 144.52it/s]\n",
            "  9%|▉         | 89/1000 [00:00<00:06, 140.42it/s]\n",
            " 10%|█         | 104/1000 [00:00<00:06, 142.65it/s]\n",
            " 12%|█▏        | 119/1000 [00:00<00:06, 141.35it/s]\n",
            " 13%|█▎        | 134/1000 [00:00<00:06, 142.99it/s]\n",
            " 15%|█▌        | 150/1000 [00:01<00:05, 145.42it/s]\n",
            " 17%|█▋        | 166/1000 [00:01<00:05, 147.41it/s]\n",
            " 18%|█▊        | 182/1000 [00:01<00:05, 149.82it/s]\n",
            " 20%|█▉        | 197/1000 [00:01<00:05, 148.78it/s]\n",
            " 21%|██        | 212/1000 [00:01<00:05, 146.67it/s]\n",
            " 23%|██▎       | 228/1000 [00:01<00:05, 148.58it/s]\n",
            " 24%|██▍       | 243/1000 [00:01<00:05, 142.71it/s]\n",
            " 26%|██▌       | 258/1000 [00:01<00:05, 143.87it/s]\n",
            " 27%|██▋       | 274/1000 [00:01<00:04, 146.83it/s]\n",
            " 29%|██▉       | 289/1000 [00:01<00:04, 145.43it/s]\n",
            " 30%|███       | 305/1000 [00:02<00:04, 147.57it/s]\n",
            " 32%|███▏      | 320/1000 [00:02<00:04, 146.91it/s]\n",
            " 34%|███▎      | 335/1000 [00:02<00:04, 145.21it/s]\n",
            " 35%|███▌      | 350/1000 [00:02<00:04, 146.06it/s]\n",
            " 36%|███▋      | 365/1000 [00:02<00:04, 145.51it/s]\n",
            " 38%|███▊      | 381/1000 [00:02<00:04, 148.49it/s]\n",
            " 40%|███▉      | 397/1000 [00:02<00:04, 149.73it/s]\n",
            " 41%|████▏     | 413/1000 [00:02<00:03, 151.28it/s]\n",
            " 43%|████▎     | 429/1000 [00:02<00:03, 150.89it/s]\n",
            " 44%|████▍     | 445/1000 [00:03<00:03, 144.18it/s]\n",
            " 46%|████▌     | 461/1000 [00:03<00:03, 147.78it/s]\n",
            " 48%|████▊     | 476/1000 [00:03<00:03, 148.08it/s]\n",
            " 49%|████▉     | 491/1000 [00:03<00:03, 148.32it/s]\n",
            " 51%|█████     | 506/1000 [00:03<00:03, 145.93it/s]\n",
            " 52%|█████▏    | 522/1000 [00:03<00:03, 147.46it/s]\n",
            " 54%|█████▎    | 537/1000 [00:03<00:03, 144.98it/s]\n",
            " 55%|█████▌    | 553/1000 [00:03<00:03, 148.31it/s]\n",
            " 57%|█████▋    | 568/1000 [00:03<00:02, 146.57it/s]\n",
            " 58%|█████▊    | 583/1000 [00:03<00:02, 147.12it/s]\n",
            " 60%|█████▉    | 598/1000 [00:04<00:02, 146.36it/s]\n",
            " 61%|██████▏   | 613/1000 [00:04<00:02, 143.08it/s]\n",
            " 63%|██████▎   | 628/1000 [00:04<00:02, 141.38it/s]\n",
            " 64%|██████▍   | 643/1000 [00:04<00:02, 143.71it/s]\n",
            " 66%|██████▌   | 658/1000 [00:04<00:02, 144.11it/s]\n",
            " 67%|██████▋   | 674/1000 [00:04<00:02, 148.09it/s]\n",
            " 69%|██████▉   | 690/1000 [00:04<00:02, 149.41it/s]\n",
            " 70%|███████   | 705/1000 [00:04<00:02, 147.00it/s]\n",
            " 72%|███████▏  | 721/1000 [00:04<00:01, 148.55it/s]\n",
            " 74%|███████▎  | 736/1000 [00:05<00:01, 146.45it/s]\n",
            " 75%|███████▌  | 752/1000 [00:05<00:01, 147.90it/s]\n",
            " 77%|███████▋  | 768/1000 [00:05<00:01, 149.19it/s]\n",
            " 78%|███████▊  | 783/1000 [00:05<00:01, 149.11it/s]\n",
            " 80%|███████▉  | 798/1000 [00:05<00:01, 145.68it/s]\n",
            " 81%|████████▏ | 813/1000 [00:05<00:01, 146.22it/s]\n",
            " 83%|████████▎ | 829/1000 [00:05<00:01, 147.57it/s]\n",
            " 84%|████████▍ | 845/1000 [00:05<00:01, 149.62it/s]\n",
            " 86%|████████▌ | 861/1000 [00:05<00:00, 150.13it/s]\n",
            " 88%|████████▊ | 877/1000 [00:05<00:00, 145.51it/s]\n",
            " 89%|████████▉ | 892/1000 [00:06<00:00, 143.50it/s]\n",
            " 91%|█████████ | 908/1000 [00:06<00:00, 147.43it/s]\n",
            " 92%|█████████▏| 923/1000 [00:06<00:00, 146.44it/s]\n",
            " 94%|█████████▍| 938/1000 [00:06<00:00, 146.33it/s]\n",
            " 95%|█████████▌| 953/1000 [00:06<00:00, 141.28it/s]\n",
            " 97%|█████████▋| 969/1000 [00:06<00:00, 144.92it/s]\n",
            " 98%|█████████▊| 984/1000 [00:06<00:00, 144.77it/s]\n",
            "100%|█████████▉| 999/1000 [00:06<00:00, 143.69it/s]\n",
            "100%|██████████| 1000/1000 [00:06<00:00, 146.08it/s]\n"
          ]
        }
      ],
      "source": [
        "CMD = \"python stylegan3/dataset_tool.py \"\\\n",
        "  \"--source gan/images/celeba_hq_256 \"\\\n",
        "  \"--dest gan/dataset/celeba_hq_256\"\n",
        "\n",
        "!{CMD}"
      ]
    },
    {
      "attachments": {},
      "cell_type": "markdown",
      "metadata": {
        "id": "L7sUkkb-CkrS"
      },
      "source": [
        "## Process Image Data\n",
        "\n",
        "All images must have the same dimensions and color depth.  This code can identify images that have issues."
      ]
    },
    {
      "cell_type": "code",
      "execution_count": null,
      "metadata": {
        "id": "QuWfEfEoColz"
      },
      "outputs": [],
      "source": [
        "from os import listdir\n",
        "from os.path import isfile, join\n",
        "import os\n",
        "from PIL import Image\n",
        "from tqdm.notebook import tqdm\n",
        "\n",
        "IMAGE_PATH = 'gan/images/celeba_hq_256'\n",
        "files = [f for f in listdir(IMAGE_PATH) if isfile(join(IMAGE_PATH, f))]\n",
        "\n",
        "base_size = None\n",
        "for file in tqdm(files):\n",
        "  file2 = os.path.join(IMAGE_PATH,file)\n",
        "  img = Image.open(file2)\n",
        "  sz = img.size\n",
        "  if base_size and sz!=base_size:\n",
        "    print(f\"Inconsistant size: {file2}\")\n",
        "  elif img.mode!='RGB':\n",
        "    print(f\"Inconsistant color format: {file2}\")\n",
        "  else:\n",
        "    base_size = sz"
      ]
    },
    {
      "attachments": {},
      "cell_type": "markdown",
      "metadata": {
        "id": "_HyFZgnjCsPb"
      },
      "source": [
        "## Training"
      ]
    },
    {
      "cell_type": "code",
      "execution_count": 7,
      "metadata": {
        "id": "4-ZBcql7Cv14"
      },
      "outputs": [
        {
          "name": "stdout",
          "output_type": "stream",
          "text": [
            "^C\n"
          ]
        }
      ],
      "source": [
        "import os\n",
        "\n",
        "# Modify these to suit your needs\n",
        "EXPERIMENTS = \"gan/experiments\"\n",
        "DATA = \"gan/dataset/celeba_hq_256\"\n",
        "SNAP = 10\n",
        "cfg = \"stylegan2\"\n",
        "gpus = 1\n",
        "# Build the command and run it\n",
        "cmd = f\"python stylegan3/train.py --cfg {cfg} --gpus {gpus} --batch=16  --gamma=10 --snap {SNAP} --outdir {EXPERIMENTS} --data {DATA}\"\n",
        "!{cmd}"
      ]
    },
    {
      "cell_type": "code",
      "execution_count": null,
      "metadata": {},
      "outputs": [],
      "source": [
        "python stylegan3/train.py --cfg \"stylegan2\" --gpus 1 --batch 16  --gamma 10 --snap 10 --outdir \"gan/experiments\" --data \"gan/dataset/celeba_hq_256\""
      ]
    },
    {
      "cell_type": "code",
      "execution_count": null,
      "metadata": {},
      "outputs": [],
      "source": [
        "cmd = f\"python stylegan3/train.py --help\"\n",
        "!{cmd}"
      ]
    },
    {
      "attachments": {},
      "cell_type": "markdown",
      "metadata": {
        "id": "JhOQRZrJDCvA"
      },
      "source": [
        "## Resume Training"
      ]
    },
    {
      "cell_type": "code",
      "execution_count": null,
      "metadata": {
        "id": "P1TFgr9MDJlS"
      },
      "outputs": [],
      "source": [
        "import os\n",
        "\n",
        "# Modify these to suit your needs\n",
        "EXPERIMENTS = \"gan/experiments\"\n",
        "NETWORK = \"network-snapshot-000100.pkl\"\n",
        "RESUME = os.path.join(EXPERIMENTS, \\\n",
        "                \"00008-circuit-auto1-resumecustom\", NETWORK)\n",
        "DATA = \"gan/dataset/circuit\"\n",
        "SNAP = 10\n",
        "\n",
        "# Build the command and run it\n",
        "cmd = f\"/usr/bin/python3 /content/stylegan3/train.py \"\\\n",
        "  f\"--snap {SNAP} --resume {RESUME} --outdir {EXPERIMENTS} --data {DATA}\"\n",
        "!{cmd}"
      ]
    },
    {
      "cell_type": "code",
      "execution_count": null,
      "metadata": {},
      "outputs": [],
      "source": [
        "python stylegan3/train.py --cfg \"stylegan2\" --gpus 1 --batch 16  --gamma 10 --snap 10 --outdir \"gan/experiments\" --data \"gan/dataset/celeba_hq_256\" --resume \"gan/experiments/00000-stylegan2-celeba_hq_256-gpus1-batch8-gamma10/network-snapshot-000400.pkl\" "
      ]
    }
  ],
  "metadata": {
    "accelerator": "GPU",
    "anaconda-cloud": {},
    "colab": {
      "name": "fix of t81_558_class_07_2_train_gan.ipynb",
      "provenance": []
    },
    "kernelspec": {
      "display_name": "Python 3",
      "language": "python",
      "name": "python3"
    },
    "language_info": {
      "codemirror_mode": {
        "name": "ipython",
        "version": 3
      },
      "file_extension": ".py",
      "mimetype": "text/x-python",
      "name": "python",
      "nbconvert_exporter": "python",
      "pygments_lexer": "ipython3",
      "version": "3.9.13"
    }
  },
  "nbformat": 4,
  "nbformat_minor": 0
}
